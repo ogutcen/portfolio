{
 "cells": [
  {
   "cell_type": "markdown",
   "metadata": {},
   "source": [
    "Here SAMPLE DATASET will come"
   ]
  },
  {
   "cell_type": "markdown",
   "metadata": {},
   "source": []
  },
  {
   "cell_type": "code",
   "execution_count": null,
   "metadata": {},
   "outputs": [],
   "source": [
    "#content report of each column\n",
    "def quick_report(df,Column):\n",
    "\n",
    "    percentage = \"{:.2%}\".format(df[Column].isna().sum()/len(df[Column]))\n",
    "    print(\"per_of_nulls   :\",percentage)\n",
    "\n",
    "    nulls=df[Column].isna().sum()\n",
    "    print(\"num_of_nulls   :\",nulls)\n",
    "\n",
    "    uniqueValues = df[Column].nunique()\n",
    "    print(\"num_of_uniques :\",uniqueValues,\"/\", len(df[Column]))\n",
    "    print(\"\")\n",
    "    items=df[Column].value_counts(dropna = False).head(10)\n",
    "    print(items)"
   ]
  },
  {
   "cell_type": "markdown",
   "metadata": {},
   "source": [
    "Usage for multiple columns\n",
    "for col in df.columns:\n",
    "    print(\"*\"*70)\n",
    "    print(col)\n",
    "    quick_report(df,col)"
   ]
  },
  {
   "cell_type": "code",
   "execution_count": null,
   "metadata": {},
   "outputs": [],
   "source": [
    "# get all files from directory\n",
    "def list_files(dir):\n",
    "    r = []\n",
    "    for root, dirs, files in os.walk(dir):\n",
    "        for name in files:\n",
    "            r.append(os.path.join(root, name))\n",
    "    return r"
   ]
  },
  {
   "cell_type": "code",
   "execution_count": null,
   "metadata": {},
   "outputs": [],
   "source": [
    "\"\"\" Usage: pandas_entropy(df['column1']) \"\"\"\n",
    "# calculate entropy\n",
    "def pandas_entropy(column, base=None):\n",
    "    vc = pd.Series(column).value_counts(normalize=True, sort=False)\n",
    "    base = e if base is None else base\n",
    "    return -(vc * np.log(vc)/np.log(base)).sum()"
   ]
  }
 ],
 "metadata": {
  "language_info": {
   "name": "python"
  },
  "orig_nbformat": 4
 },
 "nbformat": 4,
 "nbformat_minor": 2
}
