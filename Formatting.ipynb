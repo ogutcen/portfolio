{
 "cells": [
  {
   "cell_type": "markdown",
   "metadata": {},
   "source": [
    "Formatting and Standards Literature"
   ]
  },
  {
   "cell_type": "markdown",
   "metadata": {},
   "source": [
    "<h1 style=\"color:rgb(0,162,219); font-family:Arial; font-size:48px;\"> Header Formatting </h1>"
   ]
  },
  {
   "cell_type": "markdown",
   "metadata": {},
   "source": [
    "<p style=\"color:rgb(0,162,219); font-family:Arial; font-size:16px;\">Notebook Information </p>\n",
    "\n",
    "<table style=\"color:rgb(88,89,91); font-family:Arial; float:left; font-size:13px; text-align:left;\">\n",
    "    <tr>\n",
    "        <td style=\"color:rgb(0,90,132);font-size:13px; text-align:left;\"><b>Project</b></td>\n",
    "        <td style=\"text-align:left;\">Give a Project Name</td>\n",
    "    </tr>\n",
    "    <tr>\n",
    "        <td style=\"color:rgb(0,90,132);font-size:13px; text-align:left;\"><b>Job Number</b></td>\n",
    "        <td style=\"text-align:left;\">0123456789</td>\n",
    "    </tr>\n",
    "    <tr>\n",
    "        <td style=\"color:rgb(0,90,132);font-size:13px; text-align:left;\"><b>Primary Contact Name</b></td>\n",
    "        <td style=\"text-align:left;\">User Name Surname (UNS) </td>\n",
    "    </tr>\n",
    "    <tr>\n",
    "        <td style=\"color:rgb(0,90,132);font-size:13px; text-align:left;\"><b>Primary Contact Email</b></td>\n",
    "        <td style=\"text-align:left;\">email@address.com</td>\n",
    "    </tr>\n",
    "    <tr>\n",
    "        <td style=\"color:rgb(0,90,132);font-size:13px; text-align:left;\"><b>Document Sensitivity</b></td>\n",
    "        <td style=\"text-align:left;\">If you are reporting to someone</td>\n",
    "    </tr>\n",
    "</table>"
   ]
  },
  {
   "cell_type": "markdown",
   "metadata": {},
   "source": [
    "<p style=\"color:rgb(0,162,219); font-family:Arial; font-size:16px;\"> Summary </p>"
   ]
  },
  {
   "cell_type": "markdown",
   "metadata": {},
   "source": [
    "Summary of Content"
   ]
  },
  {
   "cell_type": "markdown",
   "metadata": {},
   "source": [
    "<p style=\"color:rgb(0,162,219); font-family:Arial; font-size:16px;\">Version Control </p>\n",
    "\n",
    "[//]: # (Notebook Template Version History )\n",
    "[//]: # (v0.1 UNS, 01/01/2021 - First draft )\n",
    "[//]: # (v0.2 UNS, 01/06/2021 - Updated )\n",
    "[//]: # (v0.2.1 UNS, 12/12/2021 - Corrected )"
   ]
  },
  {
   "cell_type": "markdown",
   "metadata": {},
   "source": [
    "---"
   ]
  },
  {
   "cell_type": "markdown",
   "metadata": {},
   "source": [
    "Standards\n",
    "1.\tIn general Google Style Guide <p>\n",
    "a.\tPrecise version of PEP-8 Guidance https://peps.python.org/pep-0008/ <p>\n",
    "\n",
    "2.\tLine Lengths<p>\n",
    "a.\tSoft limit of 80<p>\n",
    "b.\tHard limit of 100<p>\n",
    "\n",
    "3.\tFile Path Building<p>\n",
    "a.\tNever use string concatenation! (dize birleştirme)<p>\n",
    "b.\tUse either os.path.join() or pathlib library<p>\n",
    "\n",
    "4.\tUse import for importing modules and packages <p>\n",
    "a.\tFor Individual classes or functions use from <package> import <module> <p>\n",
    "b.\tUse from <x> import <y> as <z> if two modules named y are able to be imported or if y is an inconveniently long <p>\n",
    "c.\tUse import <y> as <z> only when z is a standard abbreviation. Eg.<p>\n",
    "i.\timport pandas as pd <p>\n",
    "ii.\timport numpy as np<p>\n",
    "\n",
    "5.\tDoc Strings<p>\n",
    "a.\tSingle line description of what that module intends to do<p>\n",
    "b.\tDetails of the individual parameters used in the module<p>\n",
    "c.\tIf the module returns anything, then, the details of it.<p>\n",
    "\n",
    "6.\tConstants and Variables<p>\n",
    "a.\tDo not use hardcoded values<p>\n",
    "b.\tDefine constants at the start of the code<p>\n",
    "c.\tUse ‘_’ (underscore) if the constants are internal<p>\n",
    "d.\tAlways use lowercase for variables <p>\n",
    "\n",
    "7.\tType Hinting<p>\n",
    "a.\tType hinting indicates the argument type<p>\n",
    "b.\tType returns also helps in identifying the return type<p>\n",
    "c.\tUse normal rules for colons, that is, no space before and one space after a colon (text: str)<p>\n",
    "d.\tUse spaces around the = sign when combining an argument annotation with a default value (align: bool = True)<p>\n",
    "\n",
    "8.\tFunction Definitions<p>\n",
    "a.\tFunction names should be lower case only<p>\n",
    "b.\t‘_’ (underscores) to be used to join two or more words in a function name<p>\n",
    "c.\tOpen and close parenthesis to align with each other<p>\n",
    "\n",
    "9.\tString Formatting<p>\n",
    "\n",
    "10.\tValidate Inputs<p>\n",
    "\n",
    "11.\tCode Header<p>\n",
    "\n",
    "12.\tOthers<p>\n",
    "a.\tSmall comments should be in descriptive style<p>\n",
    "b.\tUse comments as frequent as possible to explain what the block of code intends to do<p>\n"
   ]
  },
  {
   "cell_type": "markdown",
   "metadata": {},
   "source": [
    "---"
   ]
  },
  {
   "cell_type": "markdown",
   "metadata": {},
   "source": [
    "Commonly used Settings"
   ]
  },
  {
   "cell_type": "code",
   "execution_count": null,
   "metadata": {},
   "outputs": [],
   "source": [
    "# Display Settings\n",
    "pd.set_option('display.max_columns', None)\n",
    "pd.set_option('display.max_colwidth', 150)\n",
    "# pd.set_option('display.width', 5000)\n",
    "# pd.set_option('display.expand_frame_repr', False)\n",
    "# pd.set_option('display.float_format', lambda x: '%.2f' % x)"
   ]
  },
  {
   "cell_type": "markdown",
   "metadata": {},
   "source": []
  }
 ],
 "metadata": {
  "language_info": {
   "name": "python"
  },
  "orig_nbformat": 4
 },
 "nbformat": 4,
 "nbformat_minor": 2
}
