# LIBRARIES

import pandas as pd
import numpy as np
import datetime
from datetime import datetime, timedelta

import warnings
warnings.filterwarnings('ignore')


# Display settings for tables. Useful while debuging/testing the code.

pd.set_option('display.max_columns', None)

#pd.set_option('display.max_rows', None)

pd.set_option('display.max_rows', 160)
#pd.set_option('display.width', None)
#pd.set_option('display.max_colwidth', None)
